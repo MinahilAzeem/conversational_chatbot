{
  "nbformat": 4,
  "nbformat_minor": 0,
  "metadata": {
    "colab": {
      "provenance": [],
      "authorship_tag": "ABX9TyMtjWxZfOf294Mt/4gNtEvL",
      "include_colab_link": true
    },
    "kernelspec": {
      "name": "python3",
      "display_name": "Python 3"
    },
    "language_info": {
      "name": "python"
    }
  },
  "cells": [
    {
      "cell_type": "markdown",
      "metadata": {
        "id": "view-in-github",
        "colab_type": "text"
      },
      "source": [
        "<a href=\"https://colab.research.google.com/github/MinahilAzeem/conversational_chatbot/blob/main/Conversational_chatbot.ipynb\" target=\"_parent\"><img src=\"https://colab.research.google.com/assets/colab-badge.svg\" alt=\"Open In Colab\"/></a>"
      ]
    },
    {
      "cell_type": "code",
      "execution_count": 1,
      "metadata": {
        "id": "Ti_e-bEJ_fjy"
      },
      "outputs": [],
      "source": [
        "import nltk\n",
        "import numpy as np\n",
        "import random\n",
        "import string\n",
        "\n",
        "import bs4 as bs\n",
        "import urllib.request\n",
        "import re"
      ]
    },
    {
      "cell_type": "code",
      "source": [
        "get_link = urllib.request.urlopen('https://en.wikipedia.org/wiki/Disease')\n",
        "get_link = get_link.read()\n",
        "\n",
        "data = bs.BeautifulSoup(get_link, 'lxml')\n",
        "\n",
        "data_paragraphs = data.find_all('p')\n",
        "\n",
        "data_text = ''\n",
        "\n",
        "for para in data_paragraphs:\n",
        "    data_text += para.text\n",
        "\n",
        "data_text = data_text.lower()"
      ],
      "metadata": {
        "id": "V6vQtuK3aMhm"
      },
      "execution_count": 3,
      "outputs": []
    },
    {
      "cell_type": "code",
      "source": [
        "data_text = re.sub(r'\\[[0-9]*\\]', ' ', data_text)\n",
        "data_text = re.sub(r'\\s+', ' ', data_text)"
      ],
      "metadata": {
        "id": "G3oGOLF7at-o"
      },
      "execution_count": 4,
      "outputs": []
    },
    {
      "cell_type": "code",
      "source": [
        "nltk.download('punkt_tab')"
      ],
      "metadata": {
        "colab": {
          "base_uri": "https://localhost:8080/"
        },
        "id": "6uCS89sla3eL",
        "outputId": "b210dc8a-c40e-4bab-9b26-ceb4888ea001"
      },
      "execution_count": 6,
      "outputs": [
        {
          "output_type": "stream",
          "name": "stderr",
          "text": [
            "[nltk_data] Downloading package punkt_tab to /root/nltk_data...\n",
            "[nltk_data]   Unzipping tokenizers/punkt_tab.zip.\n"
          ]
        },
        {
          "output_type": "execute_result",
          "data": {
            "text/plain": [
              "True"
            ]
          },
          "metadata": {},
          "execution_count": 6
        }
      ]
    },
    {
      "cell_type": "code",
      "source": [
        "nltk.download('wordnet')"
      ],
      "metadata": {
        "colab": {
          "base_uri": "https://localhost:8080/"
        },
        "id": "q2iS9g74bqGG",
        "outputId": "37fc649b-539b-49b6-88dc-426b656b17cd"
      },
      "execution_count": 13,
      "outputs": [
        {
          "output_type": "stream",
          "name": "stderr",
          "text": [
            "[nltk_data] Downloading package wordnet to /root/nltk_data...\n"
          ]
        },
        {
          "output_type": "execute_result",
          "data": {
            "text/plain": [
              "True"
            ]
          },
          "metadata": {},
          "execution_count": 13
        }
      ]
    },
    {
      "cell_type": "code",
      "source": [
        "data_sentences = nltk.sent_tokenize(data_text)\n",
        "data_words = nltk.word_tokenize(data_text)"
      ],
      "metadata": {
        "id": "C26OO5osaxn9"
      },
      "execution_count": 15,
      "outputs": []
    },
    {
      "cell_type": "code",
      "source": [
        "wnlemmatizer = nltk.stem.WordNetLemmatizer()\n",
        "\n",
        "def perform_lemmatization(tokens):\n",
        "    return [wnlemmatizer.lemmatize(token) for token in tokens]\n",
        "\n",
        "punctuation_removal = dict((ord(punctuation), None) for punctuation in string.punctuation)\n",
        "\n",
        "def get_processed_text(document):\n",
        "    return perform_lemmatization(nltk.word_tokenize(document.lower().translate(punctuation_removal)))"
      ],
      "metadata": {
        "id": "0GGCRgWTa5Ql"
      },
      "execution_count": 16,
      "outputs": []
    },
    {
      "cell_type": "code",
      "source": [
        "greeting_inputs = (\"hey\", \"good morning\", \"good evening\", \"morning\", \"evening\", \"hi\", \"whatsup\")\n",
        "greeting_responses = [\"hey\", \"hey hows you?\", \"*nods*\", \"hello, how you doing\", \"hello\", \"Welcome, I am good and you\"]\n",
        "\n",
        "def generate_greeting_response(greeting):\n",
        "    for token in greeting.split():\n",
        "        if token.lower() in greeting_inputs:\n",
        "            return random.choice(greeting_responses)"
      ],
      "metadata": {
        "id": "DJvA9vm4a8K3"
      },
      "execution_count": 17,
      "outputs": []
    },
    {
      "cell_type": "code",
      "source": [
        "from sklearn.feature_extraction.text import TfidfVectorizer\n",
        "from sklearn.metrics.pairwise import cosine_similarity"
      ],
      "metadata": {
        "id": "XJyywGx5a-th"
      },
      "execution_count": 18,
      "outputs": []
    },
    {
      "cell_type": "code",
      "source": [
        "def generate_response(user_input):\n",
        "    bot_response = ''\n",
        "    data_sentences.append(user_input)\n",
        "\n",
        "    word_vectorizer = TfidfVectorizer(tokenizer=get_processed_text, stop_words='english')\n",
        "    all_word_vectors = word_vectorizer.fit_transform(data_sentences)\n",
        "    similar_vector_values = cosine_similarity(all_word_vectors[-1], all_word_vectors)\n",
        "    similar_sentence_number = similar_vector_values.argsort()[0][-2]\n",
        "\n",
        "    matched_vector = similar_vector_values.flatten()\n",
        "    matched_vector.sort()\n",
        "    vector_matched = matched_vector[-2]\n",
        "\n",
        "    if vector_matched == 0:\n",
        "        bot_response = bot_response + \"I am sorry, I could not understand you\"\n",
        "        return bot_response\n",
        "    else:\n",
        "        bot_response = bot_response + data_sentences[similar_sentence_number]\n",
        "        return bot_response"
      ],
      "metadata": {
        "id": "35GrgRbRbBTW"
      },
      "execution_count": 19,
      "outputs": []
    },
    {
      "cell_type": "code",
      "source": [
        "continue_dialogue = True\n",
        "print(\"Hello, I am from AI Medicare. You can ask me any question regarding Diseases:\")\n",
        "while(continue_dialogue == True):\n",
        "    human_text = input()\n",
        "    human_text = human_text.lower()\n",
        "    if human_text != 'bye':\n",
        "        if human_text == 'thanks' or human_text == 'thank you very much' or human_text == 'thank you':\n",
        "            continue_dialogue = False\n",
        "            print(\"AI Medicare: Most welcome\")\n",
        "        else:\n",
        "            if generate_greeting_response(human_text) != None:\n",
        "                print(\"AI Medicare: \" + generate_greeting_response(human_text))\n",
        "            else:\n",
        "                print(\"AI Medicare: \", end=\"\")\n",
        "                print(generate_response(human_text))\n",
        "                data_sentences.remove(human_text)\n",
        "    else:\n",
        "        continue_dialogue = False\n",
        "        print(\"AI Medicare: Good bye and take care of yourself...\")"
      ],
      "metadata": {
        "colab": {
          "base_uri": "https://localhost:8080/"
        },
        "id": "FX-pxnr8bELx",
        "outputId": "1f42346a-7a70-4dee-a81b-aa32eb266378"
      },
      "execution_count": 20,
      "outputs": [
        {
          "output_type": "stream",
          "name": "stdout",
          "text": [
            "Hello, I am from AI Medicare. You can ask me any question regarding Diseases:\n",
            "what are infectious diseases?\n",
            "AI Medicare: infectious diseases can be transmitted, e.g.\n",
            "Epidemiology\n",
            "AI Medicare: epidemiology is the study of the factors that cause or encourage diseases.\n",
            "Epilepsy?\n",
            "AI Medicare: epilepsy is considered a sign of spiritual gifts among the hmong people.\n",
            "Airborne disease\n",
            "AI Medicare: there are four main types of disease: infectious diseases, deficiency diseases, hereditary diseases (including both genetic and non-genetic hereditary diseases), and physiological diseases.\n",
            "what is pain medicine\n",
            "AI Medicare: pain management (also called pain medicine) is that branch of medicine employing an interdisciplinary approach to the relief of pain and improvement in the quality of life of those living with pain.\n",
            "what is social stigma?\n",
            "AI Medicare: fear of disease can still be a widespread social phenomenon, though not all diseases evoke extreme social stigma.\n",
            "what do you know about cancer?\n",
            "AI Medicare: the war on cancer is an example of this metaphorical use of language.\n",
            "thanks\n",
            "AI Medicare: Most welcome\n"
          ]
        }
      ]
    }
  ]
}